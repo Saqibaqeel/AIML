{
  "nbformat": 4,
  "nbformat_minor": 0,
  "metadata": {
    "colab": {
      "provenance": [],
      "authorship_tag": "ABX9TyPHmg4Y+RygpXaHfOhW3vws",
      "include_colab_link": true
    },
    "kernelspec": {
      "name": "python3",
      "display_name": "Python 3"
    },
    "language_info": {
      "name": "python"
    }
  },
  "cells": [
    {
      "cell_type": "markdown",
      "metadata": {
        "id": "view-in-github",
        "colab_type": "text"
      },
      "source": [
        "<a href=\"https://colab.research.google.com/github/Saqibaqeel/AIML/blob/main/numpy.ipynb\" target=\"_parent\"><img src=\"https://colab.research.google.com/assets/colab-badge.svg\" alt=\"Open In Colab\"/></a>"
      ]
    },
    {
      "cell_type": "code",
      "execution_count": 1,
      "metadata": {
        "colab": {
          "base_uri": "https://localhost:8080/"
        },
        "id": "koyXF6ebTh9h",
        "outputId": "3c867a2a-3384-4c06-d4a4-33effe91404c"
      },
      "outputs": [
        {
          "output_type": "stream",
          "name": "stdout",
          "text": [
            "numpy\n"
          ]
        }
      ],
      "source": [
        "print(\"numpy\")"
      ]
    },
    {
      "cell_type": "code",
      "source": [
        "import numpy as np\n",
        "\n"
      ],
      "metadata": {
        "id": "sU8iGsXaTvwT"
      },
      "execution_count": 2,
      "outputs": []
    },
    {
      "cell_type": "code",
      "source": [],
      "metadata": {
        "id": "VzCPG6hzVmW3"
      },
      "execution_count": null,
      "outputs": []
    },
    {
      "cell_type": "markdown",
      "source": [
        "numpy array\n"
      ],
      "metadata": {
        "id": "ZFOgEg4lVjQO"
      }
    },
    {
      "cell_type": "code",
      "source": [
        "a=np.array([1,2,3,4,5])\n",
        "print(a)\n",
        "type(a)"
      ],
      "metadata": {
        "colab": {
          "base_uri": "https://localhost:8080/"
        },
        "id": "PT71XwQuVoCL",
        "outputId": "01f90e9a-4ce3-4f0d-f8dd-49c51a382cae"
      },
      "execution_count": 3,
      "outputs": [
        {
          "output_type": "stream",
          "name": "stdout",
          "text": [
            "[1 2 3 4 5]\n"
          ]
        },
        {
          "output_type": "execute_result",
          "data": {
            "text/plain": [
              "numpy.ndarray"
            ]
          },
          "metadata": {},
          "execution_count": 3
        }
      ]
    },
    {
      "cell_type": "markdown",
      "source": [
        "creating n-dimension array or 2D array using numpy"
      ],
      "metadata": {
        "id": "Qsuy_vH_Wc2j"
      }
    },
    {
      "cell_type": "code",
      "source": [
        "multiArr=np.array([(1,2,3,4,5),(6,7,8,9,10)])\n",
        "print(multiArr)"
      ],
      "metadata": {
        "colab": {
          "base_uri": "https://localhost:8080/"
        },
        "id": "U-sfcnZgWmRn",
        "outputId": "dad916b2-0d27-435f-ae60-b5fb03706b22"
      },
      "execution_count": 4,
      "outputs": [
        {
          "output_type": "stream",
          "name": "stdout",
          "text": [
            "[[ 1  2  3  4  5]\n",
            " [ 6  7  8  9 10]]\n"
          ]
        }
      ]
    },
    {
      "cell_type": "markdown",
      "source": [
        "the above array is 5 col and 2 row"
      ],
      "metadata": {
        "id": "9NR6s-6HXAyQ"
      }
    },
    {
      "cell_type": "markdown",
      "source": [
        "how to create floating point or differnt type of array in numpy"
      ],
      "metadata": {
        "id": "xiW2L-JiXIXc"
      }
    },
    {
      "cell_type": "code",
      "source": [
        "d=np.array([1,2,3,4],dtype=float)\n",
        "print(d)\n"
      ],
      "metadata": {
        "colab": {
          "base_uri": "https://localhost:8080/"
        },
        "id": "IFkU_TRxXZHK",
        "outputId": "1ef2ded4-f37e-451c-9b83-79abaae8875d"
      },
      "execution_count": 6,
      "outputs": [
        {
          "output_type": "stream",
          "name": "stdout",
          "text": [
            "[1. 2. 3. 4.]\n"
          ]
        }
      ]
    },
    {
      "cell_type": "markdown",
      "source": [
        "initai place holder in numpy array"
      ],
      "metadata": {
        "id": "NXKC0qdQYisy"
      }
    },
    {
      "cell_type": "code",
      "source": [
        "zer=np.zeros([(3),(3)])\n",
        "print(zer)"
      ],
      "metadata": {
        "colab": {
          "base_uri": "https://localhost:8080/"
        },
        "id": "ef3h2PiuY8FI",
        "outputId": "a85b1e83-e352-4632-be17-ef22f9587b19"
      },
      "execution_count": 7,
      "outputs": [
        {
          "output_type": "stream",
          "name": "stdout",
          "text": [
            "[[0. 0. 0.]\n",
            " [0. 0. 0.]\n",
            " [0. 0. 0.]]\n"
          ]
        }
      ]
    },
    {
      "cell_type": "markdown",
      "source": [
        "the above array all the intitial vallue is zero with 3 row and 3 col"
      ],
      "metadata": {
        "id": "A0Kf0RHyZSe8"
      }
    },
    {
      "cell_type": "code",
      "source": [
        "#create array of particular value using full function\n",
        "particular=np.full((3,5),6)\n",
        "print(particular)"
      ],
      "metadata": {
        "colab": {
          "base_uri": "https://localhost:8080/"
        },
        "id": "vhL6u0kzZyRO",
        "outputId": "cd798670-24c9-458b-c98a-12f51afe1a4f"
      },
      "execution_count": 8,
      "outputs": [
        {
          "output_type": "stream",
          "name": "stdout",
          "text": [
            "[[6 6 6 6 6]\n",
            " [6 6 6 6 6]\n",
            " [6 6 6 6 6]]\n"
          ]
        }
      ]
    },
    {
      "cell_type": "markdown",
      "source": [
        "The above parameter first we mention no. of row and col and after bracket we can mention the value of array i.e 6"
      ],
      "metadata": {
        "id": "fxt8Oqs2aNSU"
      }
    },
    {
      "cell_type": "markdown",
      "source": [
        "creating i identity matrix using eye() function\n",
        "identity matrix is a matrix in which all the value will b zeor accept princple diagonal and no. of row and no. of will be same so now need to mention no. of row and column"
      ],
      "metadata": {
        "id": "mMhzPn0ca4Rm"
      }
    },
    {
      "cell_type": "code",
      "source": [
        "#creating a 6 by 6 identity matrix\n",
        "identity=np.eye(6)\n",
        "print(identity)"
      ],
      "metadata": {
        "colab": {
          "base_uri": "https://localhost:8080/"
        },
        "id": "F8tThc9PbZ3Y",
        "outputId": "df71ac7b-4410-46ad-a324-d828fcaf47c9"
      },
      "execution_count": 9,
      "outputs": [
        {
          "output_type": "stream",
          "name": "stdout",
          "text": [
            "[[1. 0. 0. 0. 0. 0.]\n",
            " [0. 1. 0. 0. 0. 0.]\n",
            " [0. 0. 1. 0. 0. 0.]\n",
            " [0. 0. 0. 1. 0. 0.]\n",
            " [0. 0. 0. 0. 1. 0.]\n",
            " [0. 0. 0. 0. 0. 1.]]\n"
          ]
        }
      ]
    },
    {
      "cell_type": "code",
      "source": [
        "#crating a random value matrix wit 3 row an 4 col\n",
        "ren=np.random.random((3,4))\n",
        "print(ren)"
      ],
      "metadata": {
        "colab": {
          "base_uri": "https://localhost:8080/"
        },
        "id": "DKO6lY40bqzo",
        "outputId": "d93b1a09-ec5f-4512-9192-21a342aea7b3"
      },
      "execution_count": 12,
      "outputs": [
        {
          "output_type": "stream",
          "name": "stdout",
          "text": [
            "[[0.55078452 0.97597987 0.1886569  0.31098966]\n",
            " [0.05662577 0.27885687 0.70557914 0.1318177 ]\n",
            " [0.47869295 0.40265499 0.59006813 0.13845863]]\n"
          ]
        }
      ]
    },
    {
      "cell_type": "markdown",
      "source": [
        "creating a random matrix with specific range"
      ],
      "metadata": {
        "id": "4cpWfFL_cwVg"
      }
    },
    {
      "cell_type": "code",
      "source": [
        "specificRange=np.random.randint(10,15,(3,4))#here 3 and 4 are no. of row and col and 10 15 are range\n",
        "print(specificRange)"
      ],
      "metadata": {
        "colab": {
          "base_uri": "https://localhost:8080/"
        },
        "id": "QzbulVk6c5dZ",
        "outputId": "44e7de99-5c3c-4d71-c52f-9307df477ece"
      },
      "execution_count": 14,
      "outputs": [
        {
          "output_type": "stream",
          "name": "stdout",
          "text": [
            "[[10 13 13 14]\n",
            " [11 10 13 12]\n",
            " [10 12 11 11]]\n"
          ]
        }
      ]
    },
    {
      "cell_type": "code",
      "source": [],
      "metadata": {
        "id": "1URypJH-dUnX"
      },
      "execution_count": null,
      "outputs": []
    }
  ]
}