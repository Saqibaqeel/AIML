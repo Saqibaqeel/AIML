{
  "nbformat": 4,
  "nbformat_minor": 0,
  "metadata": {
    "colab": {
      "provenance": [],
      "authorship_tag": "ABX9TyMLQ0NhRGK9dhN1XDxWgtgb",
      "include_colab_link": true
    },
    "kernelspec": {
      "name": "python3",
      "display_name": "Python 3"
    },
    "language_info": {
      "name": "python"
    }
  },
  "cells": [
    {
      "cell_type": "markdown",
      "metadata": {
        "id": "view-in-github",
        "colab_type": "text"
      },
      "source": [
        "<a href=\"https://colab.research.google.com/github/Saqibaqeel/AIML/blob/main/Untitled1.ipynb\" target=\"_parent\"><img src=\"https://colab.research.google.com/assets/colab-badge.svg\" alt=\"Open In Colab\"/></a>"
      ]
    },
    {
      "cell_type": "code",
      "execution_count": null,
      "metadata": {
        "id": "MnNRpYadjanV"
      },
      "outputs": [],
      "source": []
    },
    {
      "cell_type": "markdown",
      "source": [
        "If you have a shuffled deck of 52 cards, there are 4 aces, 4 kings, 4 queeens, 4 jacks, and 4 of each numbered card from 2 to 10. What is the probability that if you draw a card at random it will be a numbered card."
      ],
      "metadata": {
        "id": "dIu3Fpj8jcVO"
      }
    },
    {
      "cell_type": "code",
      "source": [
        "total_cards = 52\n",
        "numbered_cards = 9 * 4\n",
        "probability = numbered_cards / total_cards\n",
        "print(\"The probability of drawing a numbered card is:\", probability)\n",
        "print(\"The probability as a percentage is:\", probability * 100, \"percentage\")\n"
      ],
      "metadata": {
        "colab": {
          "base_uri": "https://localhost:8080/"
        },
        "id": "IBUhh_xCjjLA",
        "outputId": "fdf4ab6f-b122-4794-96ec-1fa28a4c1ce3"
      },
      "execution_count": 3,
      "outputs": [
        {
          "output_type": "stream",
          "name": "stdout",
          "text": [
            "The probability of drawing a numbered card is: 0.6923076923076923\n",
            "The probability as a percentage is: 69.23076923076923 percentage\n"
          ]
        }
      ]
    },
    {
      "cell_type": "markdown",
      "source": [],
      "metadata": {
        "id": "wdaNdROgkppW"
      }
    },
    {
      "cell_type": "markdown",
      "source": [],
      "metadata": {
        "id": "EJrIC7ugkqdN"
      }
    },
    {
      "cell_type": "markdown",
      "source": [
        "We start by defining the total number of cards in the deck, which is 52.\n",
        "\n",
        "We calculate the number of numbered cards (cards from 2 to 10) by multiplying 9 (the number of cards in each number from 2 to 10) by 4 (the number of suits for each number). This gives us the total number of numbered cards in the deck.\n",
        "\n",
        "We calculate the probability by dividing the number of numbered cards by the total number of cards in the deck.\n",
        "\n",
        "Finally, we print the probability both as a decimal and as a percentage.\n",
        "\n",
        "When you run this code, it will calculate and display the probability of drawing a numbered card from a shuffled deck of 52 cards\n",
        "\n",
        "\n",
        "\n"
      ],
      "metadata": {
        "id": "Qv5n4F-ijwes"
      }
    },
    {
      "cell_type": "markdown",
      "source": [
        "In the same setup as above, you take on card out and look at it, put it back into the deck and shuffle it. Now you pull another card output. What is the probability that both the cards you pulled out are numbered cards."
      ],
      "metadata": {
        "id": "WFUQhuiRj1c-"
      }
    },
    {
      "cell_type": "code",
      "source": [
        "total_cards = 52\n",
        "numbered_cards = 9 * 4\n",
        "probability_first_draw = numbered_cards / total_cards\n",
        "probability_second_draw = numbered_cards / total_cards\n",
        "probability_both_numbered = probability_first_draw * probability_second_draw\n",
        "print(\"The probability of both cards being numbered is:\", probability_both_numbered)\n",
        "print(\"The probability as a percentage is:\", probability_both_numbered * 100, \"%\")\n"
      ],
      "metadata": {
        "colab": {
          "base_uri": "https://localhost:8080/"
        },
        "id": "tHuG6uFTkJA7",
        "outputId": "bc25e9ee-9c6f-4dba-d1d4-e088e8058cf1"
      },
      "execution_count": 2,
      "outputs": [
        {
          "output_type": "stream",
          "name": "stdout",
          "text": [
            "The probability of both cards being numbered is: 0.4792899408284023\n",
            "The probability as a percentage is: 47.928994082840234 %\n"
          ]
        }
      ]
    },
    {
      "cell_type": "markdown",
      "source": [
        "Same Problem as above, but now when you pull out one card, you throw it out and do not put it back into the deck. Find the probability now that they are both numbered cards that you drew."
      ],
      "metadata": {
        "id": "09JsBOEAkMJs"
      }
    },
    {
      "cell_type": "code",
      "source": [
        "total_cards = 52\n",
        "numbered_cards = 9 * 4\n",
        "probability_first_draw = numbered_cards / total_cards\n",
        "updated_total_cards = total_cards - 1\n",
        "updated_numbered_cards = numbered_cards - 1\n",
        "probability_second_draw = updated_numbered_cards / updated_total_cards\n",
        "probability_both_numbered = probability_first_draw * probability_second_draw\n",
        "print(\"The probability of both cards being numbered is:\", probability_both_numbered)\n",
        "print(\"The probability as a percentage is:\", probability_both_numbered * 100, \"%\")\n"
      ],
      "metadata": {
        "colab": {
          "base_uri": "https://localhost:8080/"
        },
        "id": "KxOuOFWQkZo9",
        "outputId": "4a1fccab-d395-491e-a6a9-5aac0f042825"
      },
      "execution_count": 1,
      "outputs": [
        {
          "output_type": "stream",
          "name": "stdout",
          "text": [
            "The probability of both cards being numbered is: 0.4751131221719457\n",
            "The probability as a percentage is: 47.511312217194565 %\n"
          ]
        }
      ]
    },
    {
      "cell_type": "markdown",
      "source": [
        "Now the deck of card is not shuffled. All the cards are in sorted order, first all the cards from Ace to King of Spades, then Hearts, then Diamonds and then Clubs. You are asked to cut the deck (break it into 2 parts, i.e. pick some cards from the top) at a random location. What is the probability that the bottom card of your cut is an numbered cards card."
      ],
      "metadata": {
        "id": "6Dh1WVxnksgs"
      }
    },
    {
      "cell_type": "code",
      "source": [
        "total_cards = 52\n",
        "numbered_cards = 9 * 4\n",
        "probability_cut_before_numbered = (numbered_cards - 1) / (total_cards - 1)\n",
        "probability_bottom_numbered = numbered_cards / (total_cards - 1)\n",
        "print(\"The probability that the bottom card of the cut is a numbered card is:\", probability_bottom_numbered)\n",
        "print(\"The probability as a percentage is:\", probability_bottom_numbered * 100, \"%\")\n"
      ],
      "metadata": {
        "colab": {
          "base_uri": "https://localhost:8080/"
        },
        "id": "7gVMmaVbkuWl",
        "outputId": "e9db4d1f-5be3-4f33-b384-2bfa0c000667"
      },
      "execution_count": 4,
      "outputs": [
        {
          "output_type": "stream",
          "name": "stdout",
          "text": [
            "The probability that the bottom card of the cut is a numbered card is: 0.7058823529411765\n",
            "The probability as a percentage is: 70.58823529411765 %\n"
          ]
        }
      ]
    }
  ]
}