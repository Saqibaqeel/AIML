{
  "nbformat": 4,
  "nbformat_minor": 0,
  "metadata": {
    "colab": {
      "provenance": [],
      "authorship_tag": "ABX9TyOQ84oztiAifxuAYcW9cm5B",
      "include_colab_link": true
    },
    "kernelspec": {
      "name": "python3",
      "display_name": "Python 3"
    },
    "language_info": {
      "name": "python"
    }
  },
  "cells": [
    {
      "cell_type": "markdown",
      "metadata": {
        "id": "view-in-github",
        "colab_type": "text"
      },
      "source": [
        "<a href=\"https://colab.research.google.com/github/Saqibaqeel/AIML/blob/main/module1Solution.ipynb\" target=\"_parent\"><img src=\"https://colab.research.google.com/assets/colab-badge.svg\" alt=\"Open In Colab\"/></a>"
      ]
    },
    {
      "cell_type": "code",
      "execution_count": null,
      "metadata": {
        "id": "dNViMnzEv-BP"
      },
      "outputs": [],
      "source": [
        "\n",
        "\n",
        "\n",
        "\n"
      ]
    },
    {
      "cell_type": "markdown",
      "source": [
        "To work with different languages:"
      ],
      "metadata": {
        "id": "sDlC_Tuawnai"
      }
    },
    {
      "cell_type": "code",
      "source": [
        "!pip install wikipedia\n",
        "import wikipedia\n",
        "\n",
        "wikipedia.set_lang('es')  #   language  Spanish\n",
        "spanish_article = wikipedia.page('Elefante').content  #  Spanish article"
      ],
      "metadata": {
        "colab": {
          "base_uri": "https://localhost:8080/"
        },
        "id": "LoB9NgXpwyWh",
        "outputId": "ad3123ea-4f12-478d-ff1c-395cb5116d37"
      },
      "execution_count": 3,
      "outputs": [
        {
          "output_type": "stream",
          "name": "stdout",
          "text": [
            "Requirement already satisfied: wikipedia in /usr/local/lib/python3.10/dist-packages (1.4.0)\n",
            "Requirement already satisfied: beautifulsoup4 in /usr/local/lib/python3.10/dist-packages (from wikipedia) (4.11.2)\n",
            "Requirement already satisfied: requests<3.0.0,>=2.0.0 in /usr/local/lib/python3.10/dist-packages (from wikipedia) (2.31.0)\n",
            "Requirement already satisfied: charset-normalizer<4,>=2 in /usr/local/lib/python3.10/dist-packages (from requests<3.0.0,>=2.0.0->wikipedia) (3.2.0)\n",
            "Requirement already satisfied: idna<4,>=2.5 in /usr/local/lib/python3.10/dist-packages (from requests<3.0.0,>=2.0.0->wikipedia) (3.4)\n",
            "Requirement already satisfied: urllib3<3,>=1.21.1 in /usr/local/lib/python3.10/dist-packages (from requests<3.0.0,>=2.0.0->wikipedia) (2.0.4)\n",
            "Requirement already satisfied: certifi>=2017.4.17 in /usr/local/lib/python3.10/dist-packages (from requests<3.0.0,>=2.0.0->wikipedia) (2023.7.22)\n",
            "Requirement already satisfied: soupsieve>1.2 in /usr/local/lib/python3.10/dist-packages (from beautifulsoup4->wikipedia) (2.5)\n"
          ]
        }
      ]
    },
    {
      "cell_type": "markdown",
      "source": [
        "To use different topics:"
      ],
      "metadata": {
        "id": "6PVzO8Q3xIiP"
      }
    },
    {
      "cell_type": "code",
      "source": [
        "!pip install wikipedia\n",
        "import wikipedia\n",
        "\n",
        "\n",
        "wikipedia.set_lang('en')\n",
        "\n",
        "\n",
        "topic1 = 'Space exploration'\n",
        "topic2 = 'Cooking recipes'\n",
        "\n",
        "\n",
        "article1 = wikipedia.page(topic1).content\n",
        "\n",
        "#second article\n",
        "article2 = wikipedia.page(topic2).content\n"
      ],
      "metadata": {
        "id": "eJb6RItlzxCq"
      },
      "execution_count": null,
      "outputs": []
    },
    {
      "cell_type": "markdown",
      "source": [
        "To use text from another source:"
      ],
      "metadata": {
        "id": "zxZFHD9t01XB"
      }
    },
    {
      "cell_type": "markdown",
      "source": [],
      "metadata": {
        "id": "s7mXAy0002sh"
      }
    },
    {
      "cell_type": "code",
      "source": [
        "text_from_other_source = \"\"\"\n",
        "Space exploration is the investigation and discovery of outer space through the use of space technology. It includes the use of astronomy and space technology to explore outer space, conduct experiments, and gather data about distant celestial bodies, planets, and beyond. Space exploration has led to numerous groundbreaking discoveries about our universe and has expanded our understanding of the cosmos.\n",
        "\n",
        "Cooking recipes are sets of instructions and guidelines for preparing and cooking various dishes. They provide detailed steps on how to combine ingredients, use cooking techniques, and apply heat to create delicious meals. Cooking recipes vary widely, from simple and quick recipes for everyday meals to complex and gourmet recipes for special occasions. Following recipes is a common practice in the culinary world to ensure consistent and enjoyable results.\n",
        "\"\"\"\n"
      ],
      "metadata": {
        "id": "UAFw-hZq0_LJ"
      },
      "execution_count": null,
      "outputs": []
    },
    {
      "cell_type": "markdown",
      "source": [],
      "metadata": {
        "id": "hDnZdPe91ZqJ"
      }
    }
  ]
}